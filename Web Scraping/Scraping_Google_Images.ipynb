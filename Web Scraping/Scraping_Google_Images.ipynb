{
 "cells": [
  {
   "cell_type": "code",
   "execution_count": null,
   "metadata": {
    "collapsed": true
   },
   "outputs": [],
   "source": [
    "from bs4 import BeautifulSoup\n",
    "import requests\n",
    "import re\n",
    "import urllib2\n",
    "import os\n",
    "import cookielib\n",
    "import json\n",
    "\n",
    "def get_soup(url,header):\n",
    "    return BeautifulSoup(urllib2.urlopen(urllib2.Request(url,headers=header)),'html.parser')\n",
    "\n",
    "\n",
    "query = raw_input(\"query image\")# you can change the query for the image  here\n",
    "image_type=\"ActiOn\"\n",
    "query= query.split()\n",
    "query='+'.join(query)\n",
    "url=\"https://www.google.co.in/search?q=\"+query+\"&source=lnms&tbm=isch\"\n",
    "print url\n",
    "#add the directory for your image here\n",
    "DIR=\"Pictures\"\n",
    "header={'User-Agent':\"Mozilla/5.0 (Windows NT 6.1; WOW64) AppleWebKit/537.36 (KHTML, like Gecko) Chrome/43.0.2357.134 Safari/537.36\"\n",
    "}\n",
    "soup = get_soup(url,header)\n",
    "\n",
    "\n",
    "ActualImages=[]# contains the link for Large original images, type of  image\n",
    "for a in soup.find_all(\"div\",{\"class\":\"rg_meta\"}):\n",
    "    link , Type =json.loads(a.text)[\"ou\"]  ,json.loads(a.text)[\"ity\"]\n",
    "    ActualImages.append((link,Type))\n",
    "\n",
    "print  \"there are total\" , len(ActualImages),\"images\"\n",
    "\n",
    "if not os.path.exists(DIR):\n",
    "            os.mkdir(DIR)\n",
    "DIR = os.path.join(DIR, query.split()[0])\n",
    "\n",
    "if not os.path.exists(DIR):\n",
    "            os.mkdir(DIR)\n",
    "###print images\n",
    "for i , (img , Type) in enumerate( ActualImages):\n",
    "    try:\n",
    "        req = urllib2.Request(img, headers={'User-Agent' : header})\n",
    "        raw_img = urllib2.urlopen(req).read()\n",
    "\n",
    "        cntr = len([i for i in os.listdir(DIR) if image_type in i]) + 1\n",
    "        print cntr\n",
    "        if len(Type)==0:\n",
    "            f = open(os.path.join(DIR , image_type + \"_\"+ str(cntr)+\".jpg\"), 'wb')\n",
    "        else :\n",
    "            f = open(os.path.join(DIR , image_type + \"_\"+ str(cntr)+\".\"+Type), 'wb')\n",
    "\n",
    "\n",
    "        f.write(raw_img)\n",
    "        f.close()\n",
    "    except Exception as e:\n",
    "        print \"could not load : \"+img\n",
    "        print e"
   ]
  }
 ],
 "metadata": {
  "anaconda-cloud": {},
  "kernelspec": {
   "display_name": "Python [conda root]",
   "language": "python",
   "name": "conda-root-py"
  },
  "language_info": {
   "codemirror_mode": {
    "name": "ipython",
    "version": 3
   },
   "file_extension": ".py",
   "mimetype": "text/x-python",
   "name": "python",
   "nbconvert_exporter": "python",
   "pygments_lexer": "ipython3",
   "version": "3.5.2"
  }
 },
 "nbformat": 4,
 "nbformat_minor": 2
}
