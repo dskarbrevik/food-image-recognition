{
 "cells": [
  {
   "cell_type": "markdown",
   "metadata": {},
   "source": [
    "# Trying out Web scraping with Beautiful Soup"
   ]
  },
  {
   "cell_type": "code",
   "execution_count": 2,
   "metadata": {
    "collapsed": false
   },
   "outputs": [
    {
     "data": {
      "text/plain": [
       "<h1 class=\"Forum-heading\">\n",
       "<a class=\"Game-logo\" href=\"/forums/en/overwatch/\"></a>\n",
       "\t\t\t\t\tGeneral Discussion\n",
       "<button class=\"Forum-button Forum-button--searchButton\" data-trigger=\"toggle.search.field\" id=\"toggle-search-field\" type=\"button\"><span class=\"Button-content\"><i class=\"Icon\"></i></span></button> </h1>"
      ]
     },
     "execution_count": 2,
     "metadata": {},
     "output_type": "execute_result"
    }
   ],
   "source": [
    "from bs4 import BeautifulSoup as soup\n",
    "from urllib.request import urlopen\n",
    "\n",
    "\n",
    "ow_forum_url = 'https://us.battle.net/forums/en/overwatch/22813879/'\n",
    "\n",
    "uClient = urlopen(ow_forum_url)\n",
    "\n",
    "page_html = uClient.read()\n",
    "\n",
    "uClient.close()\n",
    "\n",
    "page_soup = soup(page_html, \"html.parser\")\n",
    "\n",
    "page_soup.h1\n"
   ]
  },
  {
   "cell_type": "code",
   "execution_count": 4,
   "metadata": {
    "collapsed": false
   },
   "outputs": [
    {
     "data": {
      "text/plain": [
       "48"
      ]
     },
     "execution_count": 4,
     "metadata": {},
     "output_type": "execute_result"
    }
   ],
   "source": [
    "containers = page_soup.findAll(\"span\",{\"class\":\"ForumTopic-title\"})\n",
    "\n",
    "len(containers)"
   ]
  },
  {
   "cell_type": "code",
   "execution_count": 6,
   "metadata": {
    "collapsed": false
   },
   "outputs": [
    {
     "data": {
      "text/plain": [
       "<span class=\"ForumTopic-title\" data-toggle=\"tooltip\" data-tooltip-content=\"And no, not like Ana. A healer who was a DPS. Make their DPS lackluster, but a percentage of every bit of damage done is returned to the players. Maybe as they do damage it creates charges for a puls…\">\n",
       "\n",
       "\n",
       "\t\t\t\t\tHealer Idea: Heal by Dealing Damage\n",
       "\t\t\t\t</span>"
      ]
     },
     "execution_count": 6,
     "metadata": {},
     "output_type": "execute_result"
    }
   ],
   "source": [
    "containers[5]"
   ]
  },
  {
   "cell_type": "code",
   "execution_count": 14,
   "metadata": {
    "collapsed": false
   },
   "outputs": [],
   "source": [
    "forum_titles = []\n",
    "for container in containers:\n",
    "    for string in container.stripped_strings:\n",
    "        forum_titles.append(string)"
   ]
  },
  {
   "cell_type": "code",
   "execution_count": 15,
   "metadata": {
    "collapsed": false
   },
   "outputs": [
    {
     "name": "stdout",
     "output_type": "stream",
     "text": [
      "['Welcome to General Discussion - Please Read!', 'Bug Report and Technical Support Forums', 'New Mercy ultimate and E ability (ptr continue)[Feedback]', \"New D.va doesn't feel like a tank. [Feedback]\", 'Has anyone gotten the new mercy spray', 'Healer Idea: Heal by Dealing Damage', 'I AM A COMPLETE IDIOT. But I forgive myself.', \"What's your favorite Halloween Terror Voice Line?\", 'Is Hanzo truly \"useless\" without Scatter Arrow?', 'Pewdiepie defends toxic players', 'How do you feel about the job the devs are doing right now?', 'What Do You Think About A Comp MMR Reset?', 'Every Character Needs A Passive', 'Mercies who only heal their duo partner', 'Things to NEVER do in Overwatch', 'My fear about junkrat', 'why ppl so bad aim in this game???', 'Do you think Overwatch is \"easy\"?', 'Why even have Transcendence in the game anymore?', 'Continue the story', 'Hero/Skin design contest?', 'Junkrat and Mercy need reverts.', 'Junkrat hate?', 'Why are Arcade Modes constantly removed?', 'Balance', 'Young Ana..', '\"Totally 80\\'s Zarya SUCKS\"', 'why play any other support when you have godmode mercy?', 'New Mercy mains', 'Why does it take aimbot to fight Genji?', 'PS4 to PC account transferring pls', 'Back in my day....', \"Doomfist's ult achievement...\", \"How to balance Ana ('tis simple really)\", \"Ana's nanoboost should be an ability...\", 'Positional mic audio', 'Junkenstein Endless Hard and above.', \"A  Junkrat main's list of all his counters with explanations\", 'If Mercy was a guy?', '99% of scatter reworks just make scatter useless', 'i feel like junkrat needs a ult charge nerf', 'Trophy-boosting in QP', \"It says I've been banned and I don't know why\", 'Bastion Rework Idea(Feedback Encouraged)', 'Ana balance', 'Zen Potg Buff P L E A S E', 'Player Icon Duplicates', 'Overwatch could use a \"Looking For Group\" system']\n"
     ]
    }
   ],
   "source": [
    "print(forum_titles)"
   ]
  },
  {
   "cell_type": "code",
   "execution_count": null,
   "metadata": {
    "collapsed": true
   },
   "outputs": [],
   "source": []
  }
 ],
 "metadata": {
  "anaconda-cloud": {},
  "kernelspec": {
   "display_name": "Python [conda root]",
   "language": "python",
   "name": "conda-root-py"
  },
  "language_info": {
   "codemirror_mode": {
    "name": "ipython",
    "version": 3
   },
   "file_extension": ".py",
   "mimetype": "text/x-python",
   "name": "python",
   "nbconvert_exporter": "python",
   "pygments_lexer": "ipython3",
   "version": "3.5.2"
  }
 },
 "nbformat": 4,
 "nbformat_minor": 2
}
