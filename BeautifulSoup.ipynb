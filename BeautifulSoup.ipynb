{
 "cells": [
  {
   "cell_type": "markdown",
   "metadata": {},
   "source": [
    "# Trying out Web scraping with Beautiful Soup"
   ]
  },
  {
   "cell_type": "markdown",
   "metadata": {},
   "source": [
    "## DL every Blizzard SC2 General Discussion Forum post"
   ]
  },
  {
   "cell_type": "code",
   "execution_count": 79,
   "metadata": {
    "collapsed": false
   },
   "outputs": [
    {
     "name": "stdout",
     "output_type": "stream",
     "text": [
      "1\n",
      "2\n",
      "3\n",
      "4\n",
      "5\n",
      "6\n",
      "7\n",
      "8\n",
      "9\n",
      "10\n",
      "11\n",
      "12\n",
      "13\n",
      "14\n",
      "15\n",
      "16\n",
      "17\n",
      "18\n",
      "19\n"
     ]
    }
   ],
   "source": [
    "i = 1\n",
    "\n",
    "while True:\n",
    "    print(i)\n",
    "    i += 1\n",
    "    if i == 20:\n",
    "        break\n",
    "    "
   ]
  },
  {
   "cell_type": "code",
   "execution_count": 80,
   "metadata": {
    "collapsed": false
   },
   "outputs": [
    {
     "ename": "TypeError",
     "evalue": "initial_page parameter type '<class 'float'>' but must be 'int'",
     "output_type": "error",
     "traceback": [
      "\u001b[0;31m---------------------------------------------------------------------------\u001b[0m",
      "\u001b[0;31mTypeError\u001b[0m                                 Traceback (most recent call last)",
      "\u001b[0;32m<ipython-input-80-677c731d3254>\u001b[0m in \u001b[0;36m<module>\u001b[0;34m()\u001b[0m\n\u001b[1;32m      2\u001b[0m \u001b[1;33m\u001b[0m\u001b[0m\n\u001b[1;32m      3\u001b[0m \u001b[1;32mif\u001b[0m \u001b[0mtype\u001b[0m\u001b[1;33m(\u001b[0m\u001b[0mtest\u001b[0m\u001b[1;33m)\u001b[0m \u001b[1;33m!=\u001b[0m \u001b[0mint\u001b[0m\u001b[1;33m:\u001b[0m\u001b[1;33m\u001b[0m\u001b[0m\n\u001b[0;32m----> 4\u001b[0;31m     \u001b[1;32mraise\u001b[0m \u001b[0mTypeError\u001b[0m\u001b[1;33m(\u001b[0m\u001b[1;34m\"initial_page parameter type '{}' but must be 'int'\"\u001b[0m\u001b[1;33m.\u001b[0m\u001b[0mformat\u001b[0m\u001b[1;33m(\u001b[0m\u001b[0mtype\u001b[0m\u001b[1;33m(\u001b[0m\u001b[0mtest\u001b[0m\u001b[1;33m)\u001b[0m\u001b[1;33m)\u001b[0m\u001b[1;33m)\u001b[0m\u001b[1;33m\u001b[0m\u001b[0m\n\u001b[0m\u001b[1;32m      5\u001b[0m \u001b[1;32melse\u001b[0m\u001b[1;33m:\u001b[0m\u001b[1;33m\u001b[0m\u001b[0m\n\u001b[1;32m      6\u001b[0m     \u001b[0mprint\u001b[0m\u001b[1;33m(\u001b[0m\u001b[1;34m\"yay!\"\u001b[0m\u001b[1;33m)\u001b[0m\u001b[1;33m\u001b[0m\u001b[0m\n",
      "\u001b[0;31mTypeError\u001b[0m: initial_page parameter type '<class 'float'>' but must be 'int'"
     ]
    }
   ],
   "source": [
    "test = 4.0\n",
    "\n",
    "if type(test) != int:\n",
    "    raise TypeError(\"initial_page parameter type '{}' but must be 'int'\".format(type(test)))\n",
    "else:\n",
    "    print(\"yay!\")"
   ]
  },
  {
   "cell_type": "code",
   "execution_count": 84,
   "metadata": {
    "collapsed": false
   },
   "outputs": [
    {
     "name": "stdout",
     "output_type": "stream",
     "text": [
      "<class 'str'>\n"
     ]
    }
   ],
   "source": [
    "test = 4.0\n",
    "\n",
    "print(type(type(test).__name__))"
   ]
  },
  {
   "cell_type": "code",
   "execution_count": 22,
   "metadata": {
    "collapsed": false
   },
   "outputs": [],
   "source": [
    "from bs4 import BeautifulSoup as soup\n",
    "from urllib.request import urlopen\n",
    "import re\n",
    "import os.path\n",
    "import json\n",
    "\n",
    "class Blizzard_Forum_Crawler():\n",
    "    \n",
    "    overwatch_forum_url = \"overwatch/22813879\"\n",
    "    sc2_forum_url = \"sc2/40568\"\n",
    "    \n",
    "    def __init__(self):\n",
    "        \n",
    "        # feature vectors\n",
    "        self.topic = []\n",
    "        self.text = []\n",
    "        self.time_created = []\n",
    "        self.date_created = []\n",
    "        self.num_of_replies = []\n",
    "        self.username = []\n",
    "        self.time_last_reply = []\n",
    "        \n",
    "\n",
    "    def get_forum_pages(self, forum_type = None, initial_page = 1, max_page = 10000, output_file = True):\n",
    "        \n",
    "        # Step 1) try to catch user input errors\n",
    "        \n",
    "        if forum_type not in [\"sc2\",\"overwatch\"]:\n",
    "            raise NameError(\"please set 'forum_type' paramater to 'sc2' or 'overwatch'\") \n",
    "        \n",
    "        if type(initial_page) != int:\n",
    "            raise TypeError(\"type(initial_page) was set to a '{}' but must be type 'int'\".format(type(initial_page.__name__)))\n",
    "        elif initial_page <= 0:\n",
    "            raise Exception(\"initial_page must be an 'int' greater than 0\")\n",
    "    \n",
    "        if type(max_page) != int:\n",
    "            raise TypeError(\"type(max_page) was set to a '{}' but must be type 'int'\".format(type(max_page.__name__)))\n",
    "        elif max_page < initial_page:\n",
    "            raise Exception(\"max_page must be greater than or equal to initial_page\")\n",
    "            \n",
    "        if output_file:\n",
    "            if os.path.isfile(\"{}_database.csv\".format(forum_type)):\n",
    "                raise Exception(\"{}_database.csv already exists. Please remove this file before calling this function.\".format(forum_type))\n",
    "\n",
    "        \n",
    "        # Step 2) set up the environment and user specified configuration\n",
    "        \n",
    "        if forum_type == \"sc2\":\n",
    "            forum_of_interest = self.sc2_forum_url\n",
    "        elif forum_type == \"overwatch\":\n",
    "            forum_of_interest = self.overwatch_forum_url\n",
    "\n",
    "        url_page_num = initial_page\n",
    "        forum_data_class = re.compile(r'^ForumTopic[^(-timestamp*)]*$')\n",
    "        all_soups = [] # for saving complete soup data for possible future use\n",
    "        all_data = {}\n",
    "        with open(\"{}_database.csv\".format(forum_type), \"w\") as file:\n",
    "            file.write(\"Username,Topic,Text,Post_Date,Post_Time,Number_of_replies,Time_of_last_reply\") # header for output file\n",
    "        \n",
    "        \n",
    "        # Step 3) loop over all desired pages to gather html data\n",
    "        \n",
    "        while True:\n",
    "            if url_page_num % 100 == 0:\n",
    "                print(\"Currently reading page {}\".format(url_page_num))\n",
    "            forum_url = 'https://us.battle.net/forums/en/{specific_forum}/?page={curr_page}'.format(specific_forum = forum_of_interest,                            \n",
    "                                                                                                    curr_page = url_page_num)\n",
    "            #################\n",
    "            print(forum_url) # delete this after testing is done\n",
    "            #################\n",
    "            \n",
    "            uClient = urlopen(forum_url)\n",
    "            page_html = uClient.read()\n",
    "            uClient.close()\n",
    "            \n",
    "            # parse the HTML\n",
    "            page_soup = soup(page_html, \"html.parser\")\n",
    "            \n",
    "            # stop if no more posts\n",
    "            if len(page_soup) == 0:\n",
    "                break\n",
    "            \n",
    "            all_soups.append(page_soup)\n",
    "            soup_details = page_soup.findAll(\"a\",{\"class\":forum_data_class})\n",
    "            tmp_data = {}\n",
    "            \n",
    "            for i in range(len(soup_details)):\n",
    "            \n",
    "                tmp_date = soup_details[i]['data-created-date']\n",
    "                tmp_time = soup_details[i]['data-created-time']\n",
    "                tmp_user = soup_details[i].find('span',{\"ForumTopic-author\"}).text\n",
    "                tmp_replies = soup_details[i].find('span',{\"ForumTopic-replies\"}).text\n",
    "                tmp_last_reply_time = soup_details[i].find('span',{\"ForumTopic-timestamp\"}).text.strip()\n",
    "                tmp_topic = soup_details[i].find('span',{\"ForumTopic-title\"}).text.strip()\n",
    "                tmp_text = soup_details[i].find('span',{\"ForumTopic--preview\"}).text\n",
    "                \n",
    "                tmp_data['date'] = tmp_date\n",
    "                tmp_data['time'] = tmp_time\n",
    "                tmp_data['user'] = tmp_user\n",
    "                tmp_data['replies'] = tmp_replies\n",
    "                tmp_data['last_reply'] = tmp_last_reply_time\n",
    "                tmp_data['topic'] = tmp_topic\n",
    "                tmp_data['text'] = tmp_text\n",
    "                \n",
    "                all_data['']\n",
    "                \n",
    "                self.username.append(tmp_user)\n",
    "                self.num_of_replies.append(tmp_replies)\n",
    "                self.time_last_reply.append(tmp_last_reply_time)\n",
    "                self.topic.append(tmp_topic)\n",
    "                self.text.append(tmp_text)\n",
    "                self.date_created.append(tmp_date)\n",
    "                self.time_created.append(tmp_time)\n",
    "                \n",
    "                with open(\"{}_database.txt\".format(forum_type),\"a\") as file:\n",
    "                    json.dump(\"\\n{},{},{},{},{},{},{}\".format(tmp_user,tmp_topic,tmp_text,tmp_date,tmp_time,tmp_replies,tmp_last_reply_time), file)\n",
    "\n",
    "            \n",
    "            # stop if max page reached\n",
    "            if url_page_num >= max_page:\n",
    "                break\n",
    "                \n",
    "            url_page_num += 1\n",
    "            \n",
    "        return \"Web scrape complete!\"\n",
    "    \n",
    "    \n",
    "    def test_function(self):\n",
    "        return \"Hey it worked!\"\n",
    "\n",
    "\n"
   ]
  },
  {
   "cell_type": "code",
   "execution_count": 28,
   "metadata": {
    "collapsed": false
   },
   "outputs": [],
   "source": [
    "import json\n",
    "\n",
    "data = [\"this is some text\", \"77\", \"ambasteous\", \"some the thing, I horel: oaheg;ae!oihaieo\"]\n",
    "\n",
    "with open(\"test_data.txt\",\"a\") as file:\n",
    "    json.dump(\"\\n{}\".format(data), file)\n",
    "    \n",
    "    \n"
   ]
  },
  {
   "cell_type": "code",
   "execution_count": 33,
   "metadata": {
    "collapsed": false
   },
   "outputs": [
    {
     "name": "stdout",
     "output_type": "stream",
     "text": [
      "[\"this is some text\", \"77\", \"ambasteous\", \"some the thing, I horel: oaheg;ae!oihaieo\"][\"this is some text\", \"77\", \"ambasteous\", \"some the thing, I horel: oaheg;ae!oihaieo\"]\"\\n['this is some text', '77', 'ambasteous', 'some the thing, I horel: oaheg;ae!oihaieo']\"\n",
      "\n",
      "\n"
     ]
    }
   ],
   "source": [
    "with open(\"test_data.txt\",\"r\") as file:\n",
    "    for line in file.readlines():\n",
    "        print(line)\n",
    "        print(\"\\n\")\n",
    "    "
   ]
  },
  {
   "cell_type": "code",
   "execution_count": 23,
   "metadata": {
    "collapsed": false
   },
   "outputs": [
    {
     "name": "stdout",
     "output_type": "stream",
     "text": [
      "https://us.battle.net/forums/en/sc2/40568/?page=1\n"
     ]
    },
    {
     "ename": "UnicodeEncodeError",
     "evalue": "'charmap' codec can't encode characters in position 303-305: character maps to <undefined>",
     "output_type": "error",
     "traceback": [
      "\u001b[0;31m---------------------------------------------------------------------------\u001b[0m",
      "\u001b[0;31mUnicodeEncodeError\u001b[0m                        Traceback (most recent call last)",
      "\u001b[0;32m<ipython-input-23-3152a6bb9820>\u001b[0m in \u001b[0;36m<module>\u001b[0;34m()\u001b[0m\n\u001b[1;32m      1\u001b[0m \u001b[0mtest\u001b[0m \u001b[1;33m=\u001b[0m \u001b[0mBlizzard_Forum_Crawler\u001b[0m\u001b[1;33m(\u001b[0m\u001b[1;33m)\u001b[0m\u001b[1;33m\u001b[0m\u001b[0m\n\u001b[0;32m----> 2\u001b[0;31m \u001b[0mtest\u001b[0m\u001b[1;33m.\u001b[0m\u001b[0mget_forum_pages\u001b[0m\u001b[1;33m(\u001b[0m\u001b[0mforum_type\u001b[0m\u001b[1;33m=\u001b[0m\u001b[1;34m\"sc2\"\u001b[0m\u001b[1;33m,\u001b[0m \u001b[0minitial_page\u001b[0m\u001b[1;33m=\u001b[0m\u001b[1;36m1\u001b[0m\u001b[1;33m,\u001b[0m \u001b[0mmax_page\u001b[0m\u001b[1;33m=\u001b[0m\u001b[1;36m4\u001b[0m\u001b[1;33m)\u001b[0m\u001b[1;33m\u001b[0m\u001b[0m\n\u001b[0m",
      "\u001b[0;32m<ipython-input-22-83ca46c7546d>\u001b[0m in \u001b[0;36mget_forum_pages\u001b[0;34m(self, forum_type, initial_page, max_page, output_file)\u001b[0m\n\u001b[1;32m    100\u001b[0m \u001b[1;33m\u001b[0m\u001b[0m\n\u001b[1;32m    101\u001b[0m                 \u001b[1;32mwith\u001b[0m \u001b[0mopen\u001b[0m\u001b[1;33m(\u001b[0m\u001b[1;34m\"{}_database.csv\"\u001b[0m\u001b[1;33m.\u001b[0m\u001b[0mformat\u001b[0m\u001b[1;33m(\u001b[0m\u001b[0mforum_type\u001b[0m\u001b[1;33m)\u001b[0m\u001b[1;33m,\u001b[0m\u001b[1;34m\"a\"\u001b[0m\u001b[1;33m)\u001b[0m \u001b[1;32mas\u001b[0m \u001b[0mfile\u001b[0m\u001b[1;33m:\u001b[0m\u001b[1;33m\u001b[0m\u001b[0m\n\u001b[0;32m--> 102\u001b[0;31m                     \u001b[0mfile\u001b[0m\u001b[1;33m.\u001b[0m\u001b[0mwrite\u001b[0m\u001b[1;33m(\u001b[0m\u001b[1;34m\"\\n{},{},{},{},{},{},{}\"\u001b[0m\u001b[1;33m.\u001b[0m\u001b[0mformat\u001b[0m\u001b[1;33m(\u001b[0m\u001b[0mtmp_user\u001b[0m\u001b[1;33m,\u001b[0m\u001b[0mtmp_topic\u001b[0m\u001b[1;33m,\u001b[0m\u001b[0mtmp_text\u001b[0m\u001b[1;33m,\u001b[0m\u001b[0mtmp_date\u001b[0m\u001b[1;33m,\u001b[0m\u001b[0mtmp_time\u001b[0m\u001b[1;33m,\u001b[0m\u001b[0mtmp_replies\u001b[0m\u001b[1;33m,\u001b[0m\u001b[0mtmp_last_reply_time\u001b[0m\u001b[1;33m)\u001b[0m\u001b[1;33m)\u001b[0m\u001b[1;33m\u001b[0m\u001b[0m\n\u001b[0m\u001b[1;32m    103\u001b[0m \u001b[1;33m\u001b[0m\u001b[0m\n\u001b[1;32m    104\u001b[0m \u001b[1;33m\u001b[0m\u001b[0m\n",
      "\u001b[0;32mC:\\Users\\skarb\\Anaconda3\\lib\\encodings\\cp1252.py\u001b[0m in \u001b[0;36mencode\u001b[0;34m(self, input, final)\u001b[0m\n\u001b[1;32m     17\u001b[0m \u001b[1;32mclass\u001b[0m \u001b[0mIncrementalEncoder\u001b[0m\u001b[1;33m(\u001b[0m\u001b[0mcodecs\u001b[0m\u001b[1;33m.\u001b[0m\u001b[0mIncrementalEncoder\u001b[0m\u001b[1;33m)\u001b[0m\u001b[1;33m:\u001b[0m\u001b[1;33m\u001b[0m\u001b[0m\n\u001b[1;32m     18\u001b[0m     \u001b[1;32mdef\u001b[0m \u001b[0mencode\u001b[0m\u001b[1;33m(\u001b[0m\u001b[0mself\u001b[0m\u001b[1;33m,\u001b[0m \u001b[0minput\u001b[0m\u001b[1;33m,\u001b[0m \u001b[0mfinal\u001b[0m\u001b[1;33m=\u001b[0m\u001b[1;32mFalse\u001b[0m\u001b[1;33m)\u001b[0m\u001b[1;33m:\u001b[0m\u001b[1;33m\u001b[0m\u001b[0m\n\u001b[0;32m---> 19\u001b[0;31m         \u001b[1;32mreturn\u001b[0m \u001b[0mcodecs\u001b[0m\u001b[1;33m.\u001b[0m\u001b[0mcharmap_encode\u001b[0m\u001b[1;33m(\u001b[0m\u001b[0minput\u001b[0m\u001b[1;33m,\u001b[0m\u001b[0mself\u001b[0m\u001b[1;33m.\u001b[0m\u001b[0merrors\u001b[0m\u001b[1;33m,\u001b[0m\u001b[0mencoding_table\u001b[0m\u001b[1;33m)\u001b[0m\u001b[1;33m[\u001b[0m\u001b[1;36m0\u001b[0m\u001b[1;33m]\u001b[0m\u001b[1;33m\u001b[0m\u001b[0m\n\u001b[0m\u001b[1;32m     20\u001b[0m \u001b[1;33m\u001b[0m\u001b[0m\n\u001b[1;32m     21\u001b[0m \u001b[1;32mclass\u001b[0m \u001b[0mIncrementalDecoder\u001b[0m\u001b[1;33m(\u001b[0m\u001b[0mcodecs\u001b[0m\u001b[1;33m.\u001b[0m\u001b[0mIncrementalDecoder\u001b[0m\u001b[1;33m)\u001b[0m\u001b[1;33m:\u001b[0m\u001b[1;33m\u001b[0m\u001b[0m\n",
      "\u001b[0;31mUnicodeEncodeError\u001b[0m: 'charmap' codec can't encode characters in position 303-305: character maps to <undefined>"
     ]
    }
   ],
   "source": [
    "test = Blizzard_Forum_Crawler()\n",
    "test.get_forum_pages(forum_type=\"sc2\", initial_page=1, max_page=4)"
   ]
  },
  {
   "cell_type": "code",
   "execution_count": 14,
   "metadata": {
    "collapsed": false
   },
   "outputs": [],
   "source": [
    "all_sc2_posts = get_all_sc2_posts()"
   ]
  },
  {
   "cell_type": "code",
   "execution_count": 51,
   "metadata": {
    "collapsed": false
   },
   "outputs": [
    {
     "data": {
      "text/plain": [
       "2"
      ]
     },
     "execution_count": 51,
     "metadata": {},
     "output_type": "execute_result"
    }
   ],
   "source": [
    "len(all_sc2_posts)"
   ]
  },
  {
   "cell_type": "code",
   "execution_count": 52,
   "metadata": {
    "collapsed": true
   },
   "outputs": [],
   "source": [
    "sc2_post_titles = []\n",
    "sc2_post_text = []"
   ]
  },
  {
   "cell_type": "code",
   "execution_count": 182,
   "metadata": {
    "collapsed": false
   },
   "outputs": [
    {
     "name": "stdout",
     "output_type": "stream",
     "text": [
      "SKRAPSTA\n",
      "1\n",
      "6h\n",
      "sc2 crashes every time i try\n",
      "to watch a damn replay. what the hell is this !@#$?\n",
      "10/16/17\n",
      "17:32\n"
     ]
    }
   ],
   "source": [
    "import re\n",
    "# get all the titles from a forum page\n",
    "string_of_interest = re.compile(r'^ForumTopic[^(-timestamp*)]*$')\n",
    "page_1_posts = all_sc2_posts[0].findAll('a',{\"class\":string_of_interest})\n",
    "len(page_1_posts)\n",
    "print(page_1_posts[31].find('span',{\"ForumTopic-author\"}).text)\n",
    "print(page_1_posts[31].find('span',{\"ForumTopic-replies\"}).text)\n",
    "print(page_1_posts[31].find('span',{\"ForumTopic-timestamp\"}).text.strip()) # time since last post\n",
    "print(page_1_posts[31].find('span',{\"ForumTopic-title\"}).text.strip())\n",
    "print(page_1_posts[31].find('span',{\"ForumTopic--preview\"}).text)\n",
    "print(page_1_posts[31]['data-created-date'])\n",
    "print(page_1_posts[31]['data-created-time'])\n",
    "\n",
    "\n",
    "\n",
    "\n",
    "# author = page_1_posts[30].find(\"span\",{\"class\":\"ForumTopic-author\"})\n",
    "# author.text"
   ]
  },
  {
   "cell_type": "code",
   "execution_count": 173,
   "metadata": {
    "collapsed": false
   },
   "outputs": [
    {
     "name": "stdout",
     "output_type": "stream",
     "text": [
      "[]\n"
     ]
    }
   ],
   "source": [
    "import re\n",
    "test = \"ForumTopic\"\n",
    "test2 = \"ForumTopic-timestamp\"\n",
    "\n",
    "\n",
    "hits = re.findall(r'^ForumTopic[^(-timestamp)]*$', test2)\n",
    "\n",
    "print(hits)"
   ]
  },
  {
   "cell_type": "code",
   "execution_count": 60,
   "metadata": {
    "collapsed": false
   },
   "outputs": [
    {
     "name": "stdout",
     "output_type": "stream",
     "text": [
      "Forum Guidelines - Please Read\n",
      " \n",
      "Community Groups, Events, and Tournaments\n",
      "The Newbies guide to StarCraft II\n",
      "Community Update: Testing Matchmaker Closes\n",
      "Community Update – October 10\n",
      "\"Help a Noob\"  for players new or returning!\n",
      "Bug Hotfixes (Thor, Queen, Hellion, Oracles)\n",
      "Community Update - Testing Matchmaker Changes\n",
      "Bug: War Chest for WoL/HotS/SE players\n",
      "Ending Support for Windows XP and Vista\n",
      " \n",
      "Co-op Missions Update Archive\n",
      " \n",
      "Community Feedback Archive\n",
      " \n",
      "MVPs: Most Valuable Forum Posters\n",
      " \n",
      "Derank players who dont have the...\n",
      "How to hold...\n",
      "disable skins\n",
      "The new design patch discussion\n",
      "forget sc2, switch to broodwar\n",
      "Why baneling drop is a problem in PvZ.\n",
      "Don't revamp the Raven\n",
      "Remove stacking MULES so terran takes skill\n",
      "Liberator suggestion.\n",
      "Get rid of easymode larva inject\n",
      "Test mode Protoss\n",
      "The Brotoss uprising - save MSC and CB\n",
      "best place to put the Nexus please give a tip\n",
      "Let's talk about the Hydralisk \n",
      "Let's Talk about the Marine\n",
      "Portrait bug, cant post.\n",
      "I have an Idea for future Multiplayer\n",
      "\"Forged\" - Immortal, barrier ability\n",
      "sc2 crashes every time i try\n",
      "Can my PC run SF2 at max settings \n",
      "the stagnant HotS and WoL\n",
      "Option to turn off skins\n",
      "Forums Discord\n",
      "So now that tempest is 6 supply\n",
      "Lets's talk about warp prism \n",
      "Buff the Sentry!\n",
      "Why so many people enjoy a broken design?\n",
      "The toxic community of ST\n",
      "What If Warhounds...\n",
      "What is this matchmaking? sc2 dead?\n",
      "wont let me log into americas\n",
      "Display name issue\n",
      "I will just drop this Pig opinion there\n",
      "I wouldn't get out of gold?\n",
      "[Question] Should Liberators require Armory?\n",
      "can someone give me a quick summary\n",
      "Would you swim in a Bonus Pool if you could?\n"
     ]
    }
   ],
   "source": [
    "\n",
    "len(page_1_posts)\n",
    "for i in range(len(page_1_posts)):\n",
    "    print(page_1_posts[i].text.strip(\"\\n\\t\"))"
   ]
  },
  {
   "cell_type": "code",
   "execution_count": null,
   "metadata": {
    "collapsed": true
   },
   "outputs": [],
   "source": [
    "with open(\"sc2_database\", \"w\") as file:\n",
    "    "
   ]
  },
  {
   "cell_type": "code",
   "execution_count": 47,
   "metadata": {
    "collapsed": false
   },
   "outputs": [
    {
     "data": {
      "text/plain": [
       "'Blizzard could you please add an option to turn off skins? I really dislike playing with/against skins and an option to not see them would be really nice. People who like them can actually enjoy them…'"
      ]
     },
     "execution_count": 47,
     "metadata": {},
     "output_type": "execute_result"
    }
   ],
   "source": [
    "page_1_posts[34]['data-tooltip-content']"
   ]
  },
  {
   "cell_type": "code",
   "execution_count": 4,
   "metadata": {
    "collapsed": false
   },
   "outputs": [
    {
     "data": {
      "text/plain": [
       "48"
      ]
     },
     "execution_count": 4,
     "metadata": {},
     "output_type": "execute_result"
    }
   ],
   "source": [
    "containers = page_soup.findAll(\"span\",{\"class\":\"ForumTopic-title\"})\n",
    "\n",
    "len(containers)"
   ]
  },
  {
   "cell_type": "code",
   "execution_count": 6,
   "metadata": {
    "collapsed": false
   },
   "outputs": [
    {
     "ename": "NameError",
     "evalue": "name 'containers' is not defined",
     "output_type": "error",
     "traceback": [
      "\u001b[0;31m---------------------------------------------------------------------------\u001b[0m",
      "\u001b[0;31mNameError\u001b[0m                                 Traceback (most recent call last)",
      "\u001b[0;32m<ipython-input-6-f395435fd8e9>\u001b[0m in \u001b[0;36m<module>\u001b[0;34m()\u001b[0m\n\u001b[0;32m----> 1\u001b[0;31m \u001b[0mcontainers\u001b[0m\u001b[1;33m[\u001b[0m\u001b[1;36m5\u001b[0m\u001b[1;33m]\u001b[0m\u001b[1;33m\u001b[0m\u001b[0m\n\u001b[0m",
      "\u001b[0;31mNameError\u001b[0m: name 'containers' is not defined"
     ]
    }
   ],
   "source": [
    "containers[5]"
   ]
  },
  {
   "cell_type": "code",
   "execution_count": 14,
   "metadata": {
    "collapsed": false
   },
   "outputs": [],
   "source": [
    "forum_titles = []\n",
    "for container in containers:\n",
    "    for string in container.stripped_strings:\n",
    "        forum_titles.append(string)"
   ]
  },
  {
   "cell_type": "code",
   "execution_count": 15,
   "metadata": {
    "collapsed": false
   },
   "outputs": [
    {
     "name": "stdout",
     "output_type": "stream",
     "text": [
      "['Welcome to General Discussion - Please Read!', 'Bug Report and Technical Support Forums', 'New Mercy ultimate and E ability (ptr continue)[Feedback]', \"New D.va doesn't feel like a tank. [Feedback]\", 'Has anyone gotten the new mercy spray', 'Healer Idea: Heal by Dealing Damage', 'I AM A COMPLETE IDIOT. But I forgive myself.', \"What's your favorite Halloween Terror Voice Line?\", 'Is Hanzo truly \"useless\" without Scatter Arrow?', 'Pewdiepie defends toxic players', 'How do you feel about the job the devs are doing right now?', 'What Do You Think About A Comp MMR Reset?', 'Every Character Needs A Passive', 'Mercies who only heal their duo partner', 'Things to NEVER do in Overwatch', 'My fear about junkrat', 'why ppl so bad aim in this game???', 'Do you think Overwatch is \"easy\"?', 'Why even have Transcendence in the game anymore?', 'Continue the story', 'Hero/Skin design contest?', 'Junkrat and Mercy need reverts.', 'Junkrat hate?', 'Why are Arcade Modes constantly removed?', 'Balance', 'Young Ana..', '\"Totally 80\\'s Zarya SUCKS\"', 'why play any other support when you have godmode mercy?', 'New Mercy mains', 'Why does it take aimbot to fight Genji?', 'PS4 to PC account transferring pls', 'Back in my day....', \"Doomfist's ult achievement...\", \"How to balance Ana ('tis simple really)\", \"Ana's nanoboost should be an ability...\", 'Positional mic audio', 'Junkenstein Endless Hard and above.', \"A  Junkrat main's list of all his counters with explanations\", 'If Mercy was a guy?', '99% of scatter reworks just make scatter useless', 'i feel like junkrat needs a ult charge nerf', 'Trophy-boosting in QP', \"It says I've been banned and I don't know why\", 'Bastion Rework Idea(Feedback Encouraged)', 'Ana balance', 'Zen Potg Buff P L E A S E', 'Player Icon Duplicates', 'Overwatch could use a \"Looking For Group\" system']\n"
     ]
    }
   ],
   "source": [
    "print(forum_titles)"
   ]
  },
  {
   "cell_type": "code",
   "execution_count": null,
   "metadata": {
    "collapsed": true
   },
   "outputs": [],
   "source": []
  }
 ],
 "metadata": {
  "anaconda-cloud": {},
  "kernelspec": {
   "display_name": "Python [conda root]",
   "language": "python",
   "name": "conda-root-py"
  },
  "language_info": {
   "codemirror_mode": {
    "name": "ipython",
    "version": 3
   },
   "file_extension": ".py",
   "mimetype": "text/x-python",
   "name": "python",
   "nbconvert_exporter": "python",
   "pygments_lexer": "ipython3",
   "version": "3.5.2"
  }
 },
 "nbformat": 4,
 "nbformat_minor": 2
}
